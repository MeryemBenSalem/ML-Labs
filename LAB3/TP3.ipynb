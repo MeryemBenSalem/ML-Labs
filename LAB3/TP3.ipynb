{
 "cells": [
  {
   "cell_type": "markdown",
   "id": "ea598d9d-5747-46d3-b52b-3a750a65bb6a",
   "metadata": {},
   "source": [
    "# Atelier 3: Prétraitement des données"
   ]
  },
  {
   "cell_type": "markdown",
   "id": "d5d1129a-7491-479a-93c8-4332e84fbd9c",
   "metadata": {},
   "source": [
    "Question 1:"
   ]
  },
  {
   "cell_type": "code",
   "execution_count": 2,
   "id": "9c52d82f-eacf-4641-ac96-3f42b86a0042",
   "metadata": {},
   "outputs": [
    {
     "name": "stdout",
     "output_type": "stream",
     "text": [
      "          B\n",
      "A  count  1    1.0\n",
      "          2    2.0\n",
      "          3    1.0\n",
      "          4    1.0\n",
      "          5    2.0\n",
      "              ... \n",
      "C  max    1    5.0\n",
      "          2    3.0\n",
      "          3    4.0\n",
      "          4    1.0\n",
      "          5    3.0\n",
      "Length: 80, dtype: float64\n"
     ]
    }
   ],
   "source": [
    "import pandas as pd\n",
    "df = pd.DataFrame({'A': [0,0,0,0,0,1,1],\n",
    "'B': [1,2,3,5,4,2,5],\n",
    "'C': [5,3,4,1,1,2,3]})\n",
    "a_group_desc = df.groupby('B').describe()\n",
    "unstacked = a_group_desc.unstack()\n",
    "print(unstacked)"
   ]
  },
  {
   "cell_type": "markdown",
   "id": "cba2c701-2595-4643-b089-bae0ce01cfef",
   "metadata": {},
   "source": [
    "groupby('B') : Regroupe le DataFrame selon les valeurs uniques de la colonne 'B'.\n",
    "\n",
    "describe() : Fournit des statistiques récapitulatives (comme count, mean, std, min, max, etc.) pour chaque groupe créé par groupby.\n",
    "\n",
    "unstack() : Réorganise les résultats hiérarchiques de groupby + describe en un format aplati avec des colonnes, pour une lecture plus facile."
   ]
  },
  {
   "cell_type": "markdown",
   "id": "db386691-e8a6-4c21-877e-63628956ba20",
   "metadata": {},
   "source": [
    "Question 2:"
   ]
  },
  {
   "cell_type": "code",
   "execution_count": 8,
   "id": "6fbc8833-b932-405d-a796-26b175f13a5d",
   "metadata": {},
   "outputs": [
    {
     "name": "stdout",
     "output_type": "stream",
     "text": [
      "DataFrame original :\n",
      "       Nom  Age      Ville\n",
      "0    Alice   25      Paris\n",
      "1      Bob   30       Lyon\n",
      "2  Charlie   35  Marseille\n",
      "3    Alice   25      Paris\n",
      "4      Bob   30       Lyon\n",
      "     Nom  Age  Ville\n",
      "3  Alice   25  Paris\n",
      "4    Bob   30   Lyon\n",
      "       Nom  Age      Ville\n",
      "0    Alice   25      Paris\n",
      "1      Bob   30       Lyon\n",
      "2  Charlie   35  Marseille\n",
      "       Nom  Age      Ville\n",
      "0    Alice   25      Paris\n",
      "1      Bob   30       Lyon\n",
      "2  Charlie   35  Marseille\n"
     ]
    }
   ],
   "source": [
    "import pandas as pd\n",
    "# Exemple de jeu de données\n",
    "data = {\n",
    "'Nom': ['Alice', 'Bob', 'Charlie', 'Alice', 'Bob'],\n",
    "'Age': [25, 30, 35, 25, 30],\n",
    "'Ville': ['Paris', 'Lyon', 'Marseille', 'Paris', 'Lyon']\n",
    "}\n",
    "# Création d'un DataFrame\n",
    "df = pd.DataFrame(data)\n",
    "# Affichage du DataFrame original\n",
    "print(\"DataFrame original :\")\n",
    "print(df)\n",
    "db = df.duplicated()\n",
    "print(df[db])\n",
    "df_new = df.drop_duplicates()\n",
    "print(df_new)\n",
    "\n",
    "df_new_nom = df.drop_duplicates(subset='Nom')\n",
    "print(df_new_nom)"
   ]
  },
  {
   "cell_type": "markdown",
   "id": "2c9ec68d-67d3-4f19-a314-dc636525f55f",
   "metadata": {},
   "source": [
    "a) Rôle des méthodes :\n",
    "\n",
    "duplicated() : Identifie les lignes dupliquées dans le DataFrame en renvoyant un tableau de booléens.\n",
    "\n",
    "\n",
    "drop_duplicates() : Supprime les lignes dupliquées, en conservant la première occurrence par défaut."
   ]
  },
  {
   "cell_type": "markdown",
   "id": "b0e80bd8-63b1-40fd-b850-2c623b6444c1",
   "metadata": {},
   "source": [
    "Question 3:"
   ]
  },
  {
   "cell_type": "code",
   "execution_count": 12,
   "id": "c1046d1a-5c7d-4fcb-b25f-1ef89316a002",
   "metadata": {},
   "outputs": [
    {
     "name": "stdout",
     "output_type": "stream",
     "text": [
      "Visualiser les données manquantes : true means a detection of a missing data\n",
      "0    False\n",
      "1    False\n",
      "2    False\n",
      "3     True\n",
      "4    False\n",
      "5    False\n",
      "6     True\n",
      "dtype: bool\n",
      "Isoler les données manquantes\n",
      "3   NaN\n",
      "6   NaN\n",
      "dtype: float64\n",
      "0    1.0\n",
      "1    2.0\n",
      "2    3.0\n",
      "3    3.0\n",
      "4    5.0\n",
      "5    6.0\n",
      "6    3.0\n",
      "dtype: float64\n",
      "0    1.0\n",
      "1    2.0\n",
      "2    3.0\n",
      "4    5.0\n",
      "5    6.0\n",
      "dtype: float64\n"
     ]
    }
   ],
   "source": [
    "import pandas as pd\n",
    "import numpy as np\n",
    "s = pd.Series([1, 2, 3, np.NaN, 5, 6, None])\n",
    "print(\"Visualiser les données manquantes : true means a detection of a missing data\")\n",
    "print (s.isnull())\n",
    "print (\"Isoler les données manquantes\")\n",
    "print(s[s.isnull()])\n",
    "print(s.fillna(int(s.mean())))\n",
    "print(s.dropna())"
   ]
  },
  {
   "cell_type": "markdown",
   "id": "c5f877b1-327d-49cf-aa85-bf7007135b9c",
   "metadata": {},
   "source": [
    "fillna() : Remplace les valeurs manquantes (NaN ou None) dans une série ou un DataFrame par une valeur spécifiée. Ici, elle remplace les valeurs manquantes avec la moyenne des valeurs non manquantes de la série.\n",
    "\n",
    "dropna() : Supprime les lignes (ou les valeurs dans une série) contenant des données manquantes (NaN ou None) et retourne les données restantes sans les valeurs manquantes."
   ]
  },
  {
   "cell_type": "markdown",
   "id": "ea4728ca-af5c-4452-8fad-fa22c798e466",
   "metadata": {},
   "source": [
    "Question4:"
   ]
  },
  {
   "cell_type": "code",
   "execution_count": 46,
   "id": "0a8e7ce2-b157-4b87-908a-3c32294fd6c7",
   "metadata": {},
   "outputs": [
    {
     "name": "stdout",
     "output_type": "stream",
     "text": [
      "Data:\n",
      "       x0      x1\n",
      "0  0.3051     NaN\n",
      "1  0.4949  0.2654\n",
      "2  0.6974  0.2615\n",
      "3  0.3769  0.5846\n",
      "4  0.2231  0.4615\n",
      "5  0.3410  0.8308\n",
      "6  0.4436  0.4962\n",
      "7  0.5897  0.3269\n",
      "8  0.6308  0.5346\n",
      "9  0.5000  0.6731\n",
      "Chercher les valeurs manquantes par la moyenne de la colonne\n"
     ]
    },
    {
     "ename": "TypeError",
     "evalue": "SimpleImputer.__init__() got an unexpected keyword argument 'axis'",
     "output_type": "error",
     "traceback": [
      "\u001b[1;31m---------------------------------------------------------------------------\u001b[0m",
      "\u001b[1;31mTypeError\u001b[0m                                 Traceback (most recent call last)",
      "Cell \u001b[1;32mIn[46], line 19\u001b[0m\n\u001b[0;32m     16\u001b[0m \u001b[38;5;66;03m# Create an imputer object that looks for 'NaN' values, then replaces them with the mean value of the feature\u001b[39;00m\n\u001b[0;32m     17\u001b[0m \u001b[38;5;28mprint\u001b[39m(\u001b[38;5;124m\"\u001b[39m\u001b[38;5;124mChercher les valeurs manquantes par la moyenne de la colonne\u001b[39m\u001b[38;5;124m\"\u001b[39m)\n\u001b[1;32m---> 19\u001b[0m mean_imputer \u001b[38;5;241m=\u001b[39m SimpleImputer(missing_values\u001b[38;5;241m=\u001b[39mnp\u001b[38;5;241m.\u001b[39mnan, strategy\u001b[38;5;241m=\u001b[39m\u001b[38;5;124m'\u001b[39m\u001b[38;5;124mmean\u001b[39m\u001b[38;5;124m'\u001b[39m, axis\u001b[38;5;241m=\u001b[39m\u001b[38;5;241m0\u001b[39m)\n\u001b[0;32m     21\u001b[0m \u001b[38;5;66;03m# Apply the imputer on the df dataset\u001b[39;00m\n\u001b[0;32m     22\u001b[0m mean_imputer \u001b[38;5;241m=\u001b[39m mean_imputer\u001b[38;5;241m.\u001b[39mfit(df)\n",
      "\u001b[1;31mTypeError\u001b[0m: SimpleImputer.__init__() got an unexpected keyword argument 'axis'"
     ]
    }
   ],
   "source": [
    "import pandas as pd\n",
    "import numpy as np\n",
    "from sklearn.impute import SimpleImputer  # Use SimpleImputer instead of Imputer\n",
    "\n",
    "# Create an empty dataset\n",
    "df = pd.DataFrame()\n",
    "\n",
    "# Create two variables called x0 and x1. Make the first value of x1 a missing value\n",
    "df['x0'] = [0.3051, 0.4949, 0.6974, 0.3769, 0.2231, 0.341, 0.4436, 0.5897, 0.6308, 0.5]\n",
    "df['x1'] = [np.nan, 0.2654, 0.2615, 0.5846, 0.4615, 0.8308, 0.4962, 0.3269, 0.5346, 0.6731]\n",
    "\n",
    "# View the dataset\n",
    "print(\"Data:\")\n",
    "print(df)\n",
    "\n",
    "# Create an imputer object that looks for 'NaN' values, then replaces them with the mean value of the feature\n",
    "print(\"Chercher les valeurs manquantes par la moyenne de la colonne\")\n",
    "\n",
    "mean_imputer = SimpleImputer(missing_values=np.nan, strategy='mean', axis=0)\n",
    "\n",
    "# Apply the imputer on the df dataset\n",
    "mean_imputer = mean_imputer.fit(df)\n",
    "\n",
    "# Apply the transformation\n",
    "imputed_df = mean_imputer.transform(df)\n",
    "\n",
    "# Convert the result back to a DataFrame\n",
    "imputed_df = pd.DataFrame(imputed_df, columns=df.columns)\n",
    "\n",
    "# View the dataset after imputation\n",
    "print(\"Data après imputation:\")\n",
    "print(imputed_df)\n"
   ]
  },
  {
   "cell_type": "markdown",
   "id": "2a9958a7-40e4-4aa4-9853-539db7fb1ef6",
   "metadata": {},
   "source": [
    "axis=0 : L'imputation se fait par colonne. Cela signifie que les valeurs manquantes dans une colonne donnée seront remplacées par une statistique (par exemple, la moyenne) calculée à partir des autres valeurs de cette colonne.\n"
   ]
  },
  {
   "cell_type": "markdown",
   "id": "8f0afd50-a0e1-4620-af56-1335d6594867",
   "metadata": {},
   "source": [
    "Question 5: "
   ]
  },
  {
   "cell_type": "code",
   "execution_count": 49,
   "id": "4919a782-57fc-4f10-b2e9-22bb1aad5d38",
   "metadata": {},
   "outputs": [
    {
     "name": "stdout",
     "output_type": "stream",
     "text": [
      "   A  B  C\n",
      "0  2  1  5\n",
      "1  1  2  3\n",
      "2  2  3  4\n",
      "3  3  5  1\n",
      "4  3  4  1\n",
      "5  5  2  2\n",
      "6  4  5  3\n",
      "Le jeu de données est trié selon la colonne 'A'\n"
     ]
    },
    {
     "ename": "TypeError",
     "evalue": "DataFrame.sort_index() got an unexpected keyword argument 'by'",
     "output_type": "error",
     "traceback": [
      "\u001b[1;31m---------------------------------------------------------------------------\u001b[0m",
      "\u001b[1;31mTypeError\u001b[0m                                 Traceback (most recent call last)",
      "Cell \u001b[1;32mIn[49], line 7\u001b[0m\n\u001b[0;32m      5\u001b[0m \u001b[38;5;28mprint\u001b[39m(df)\n\u001b[0;32m      6\u001b[0m \u001b[38;5;28mprint\u001b[39m(\u001b[38;5;124m\"\u001b[39m\u001b[38;5;124mLe jeu de données est trié selon la colonne \u001b[39m\u001b[38;5;124m'\u001b[39m\u001b[38;5;124mA\u001b[39m\u001b[38;5;124m'\u001b[39m\u001b[38;5;124m\"\u001b[39m)\n\u001b[1;32m----> 7\u001b[0m df \u001b[38;5;241m=\u001b[39m df\u001b[38;5;241m.\u001b[39msort_index(by\u001b[38;5;241m=\u001b[39m[\u001b[38;5;124m'\u001b[39m\u001b[38;5;124mA\u001b[39m\u001b[38;5;124m'\u001b[39m], ascending\u001b[38;5;241m=\u001b[39m[\u001b[38;5;28;01mTrue\u001b[39;00m])\n\u001b[0;32m      8\u001b[0m df \u001b[38;5;241m=\u001b[39m df\u001b[38;5;241m.\u001b[39mreset_index(drop\u001b[38;5;241m=\u001b[39m\u001b[38;5;28;01mTrue\u001b[39;00m)\n\u001b[0;32m      9\u001b[0m \u001b[38;5;28mprint\u001b[39m (df)\n",
      "\u001b[1;31mTypeError\u001b[0m: DataFrame.sort_index() got an unexpected keyword argument 'by'"
     ]
    }
   ],
   "source": [
    "import pandas as pd\n",
    "import numpy as np\n",
    "df = pd.DataFrame({'A': [2,1,2,3,3,5,4],'B': [1,2,3,5,4,2,5],\n",
    "'C': [5,3,4,1,1,2,3]})\n",
    "print(df)\n",
    "print(\"Le jeu de données est trié selon la colonne 'A'\")\n",
    "df = df.sort_index(by=['A'], ascending=[True])\n",
    "df = df.reset_index(drop=True)\n",
    "print (df)\n",
    "index = df.index.tolist()\n",
    "np.random.shuffle(index)\n",
    "df = df.ix[index]\n",
    "df = df.reset_index(drop=True)\n",
    "print(\"Le jeu de données est mélangé\")\n",
    "print (df)"
   ]
  },
  {
   "cell_type": "markdown",
   "id": "0760898f-0ff4-4623-9b80-72cc9f19c2b2",
   "metadata": {},
   "source": [
    "Le rôle de reset_index(drop=True) dans ton code est :\n",
    "\n",
    "Réinitialiser les index : Elle attribue de nouveaux index à partir de 0 en fonction de l'ordre actuel des lignes.\n",
    "drop=True : Cela empêche l'ancienne colonne d'index d'être ajoutée au DataFrame comme une nouvelle colonne, donc elle est entièrement remplacée."
   ]
  },
  {
   "cell_type": "markdown",
   "id": "f41ec061-9a0e-4f72-b9a1-be67cda00194",
   "metadata": {},
   "source": [
    "Question 6: "
   ]
  },
  {
   "cell_type": "code",
   "execution_count": 52,
   "id": "6d105895-94a9-4417-903a-64515e063592",
   "metadata": {},
   "outputs": [
    {
     "name": "stdout",
     "output_type": "stream",
     "text": [
      "   Map  Values  Sum  Moy\n",
      "0    0       1    6  2.0\n",
      "1    0       2    6  2.0\n",
      "2    0       3    6  2.0\n",
      "3    1       5    9  4.5\n",
      "4    1       4    9  4.5\n",
      "5    2       2    7  3.5\n",
      "6    2       5    7  3.5\n"
     ]
    },
    {
     "name": "stderr",
     "output_type": "stream",
     "text": [
      "C:\\Users\\merye\\AppData\\Local\\Temp\\ipykernel_5200\\914739619.py:4: FutureWarning: The provided callable <function sum at 0x000002647EC998A0> is currently using SeriesGroupBy.sum. In a future version of pandas, the provided callable will be used directly. To keep current behavior pass the string \"sum\" instead.\n",
      "  df['Sum'] = df.groupby('Map')['Values'].transform(np.sum)\n",
      "C:\\Users\\merye\\AppData\\Local\\Temp\\ipykernel_5200\\914739619.py:5: FutureWarning: The provided callable <function mean at 0x000002647EC9A980> is currently using SeriesGroupBy.mean. In a future version of pandas, the provided callable will be used directly. To keep current behavior pass the string \"mean\" instead.\n",
      "  df['Moy'] = df.groupby('Map')['Values'].transform(np.mean)\n"
     ]
    }
   ],
   "source": [
    "import pandas as pd\n",
    "import numpy as np\n",
    "df = pd.DataFrame({'Map': [0,0,0,1,1,2,2], 'Values': [1,2,3,5,4,2,5]})\n",
    "df['Sum'] = df.groupby('Map')['Values'].transform(np.sum)\n",
    "df['Moy'] = df.groupby('Map')['Values'].transform(np.mean)\n",
    "print (df)"
   ]
  },
  {
   "cell_type": "markdown",
   "id": "d75b7b40-e4fd-4480-aaad-0243690fdb32",
   "metadata": {},
   "source": [
    "Dans ton exemple, 'Map' est utilisé comme une colonne de regroupement (ou \"groupe\") dans l'opération groupby(). Elle permet de diviser les données en groupes en fonction de ses valeurs. Ensuite, des calculs (comme la somme ou la moyenne) sont effectués sur chaque groupe séparément."
   ]
  },
  {
   "cell_type": "markdown",
   "id": "55e9b0c5-3273-44f9-bf03-53349e111702",
   "metadata": {},
   "source": [
    "Question 7:"
   ]
  },
  {
   "cell_type": "code",
   "execution_count": 57,
   "id": "50295942-9523-447d-92f0-268c39277f5a",
   "metadata": {},
   "outputs": [
    {
     "name": "stdout",
     "output_type": "stream",
     "text": [
      "IRIS data values:\n",
      "     sepal length (cm)  sepal width (cm)  petal length (cm)  petal width (cm)  \\\n",
      "0                  5.1               3.5                1.4               0.2   \n",
      "1                  4.9               3.0                1.4               0.2   \n",
      "2                  4.7               3.2                1.3               0.2   \n",
      "3                  4.6               3.1                1.5               0.2   \n",
      "4                  5.0               3.6                1.4               0.2   \n",
      "..                 ...               ...                ...               ...   \n",
      "145                6.7               3.0                5.2               2.3   \n",
      "146                6.3               2.5                5.0               1.9   \n",
      "147                6.5               3.0                5.2               2.0   \n",
      "148                6.2               3.4                5.4               2.3   \n",
      "149                5.9               3.0                5.1               1.8   \n",
      "\n",
      "         group  \n",
      "0       setosa  \n",
      "1       setosa  \n",
      "2       setosa  \n",
      "3       setosa  \n",
      "4       setosa  \n",
      "..         ...  \n",
      "145  virginica  \n",
      "146  virginica  \n",
      "147  virginica  \n",
      "148  virginica  \n",
      "149  virginica  \n",
      "\n",
      "[150 rows x 5 columns]\n",
      "Mean value :\n",
      "sepal length (cm)    5.843333\n",
      "sepal width (cm)     3.057333\n",
      "petal length (cm)    3.758000\n",
      "petal width (cm)     1.199333\n",
      "dtype: float64\n",
      "Median value :\n",
      "sepal length (cm)    5.80\n",
      "sepal width (cm)     3.00\n",
      "petal length (cm)    4.35\n",
      "petal width (cm)     1.30\n",
      "dtype: float64\n",
      "Discrétisation basée sur des effectifs égaux (ou quantiles) :\n"
     ]
    },
    {
     "ename": "AssertionError",
     "evalue": "",
     "output_type": "error",
     "traceback": [
      "\u001b[1;31m---------------------------------------------------------------------------\u001b[0m",
      "\u001b[1;31mAssertionError\u001b[0m                            Traceback (most recent call last)",
      "Cell \u001b[1;32mIn[57], line 17\u001b[0m\n\u001b[0;32m     15\u001b[0m \u001b[38;5;28mprint\u001b[39m (iris_dataframe\u001b[38;5;241m.\u001b[39mmedian(numeric_only\u001b[38;5;241m=\u001b[39m\u001b[38;5;28;01mTrue\u001b[39;00m))\n\u001b[0;32m     16\u001b[0m \u001b[38;5;28mprint\u001b[39m(\u001b[38;5;124m\"\u001b[39m\u001b[38;5;124mDiscrétisation basée sur des effectifs égaux (ou quantiles) :\u001b[39m\u001b[38;5;124m\"\u001b[39m)\n\u001b[1;32m---> 17\u001b[0m \u001b[38;5;28mprint\u001b[39m(iris_dataframe\u001b[38;5;241m.\u001b[39mquantile(np\u001b[38;5;241m.\u001b[39marray([\u001b[38;5;241m0\u001b[39m,\u001b[38;5;241m.25\u001b[39m,\u001b[38;5;241m.50\u001b[39m,\u001b[38;5;241m.75\u001b[39m,\u001b[38;5;241m1\u001b[39m])))\n\u001b[0;32m     18\u001b[0m \u001b[38;5;66;03m#Le binning transforme les variables numériques en variables catégoriques\u001b[39;00m\n\u001b[0;32m     19\u001b[0m iris_binned \u001b[38;5;241m=\u001b[39m pd\u001b[38;5;241m.\u001b[39mconcat([\n\u001b[0;32m     20\u001b[0m pd\u001b[38;5;241m.\u001b[39mqcut(iris_dataframe\u001b[38;5;241m.\u001b[39miloc[:,\u001b[38;5;241m0\u001b[39m], [\u001b[38;5;241m0\u001b[39m, \u001b[38;5;241m.25\u001b[39m, \u001b[38;5;241m.5\u001b[39m, \u001b[38;5;241m.75\u001b[39m, \u001b[38;5;241m1\u001b[39m]),\n\u001b[0;32m     21\u001b[0m pd\u001b[38;5;241m.\u001b[39mqcut(iris_dataframe\u001b[38;5;241m.\u001b[39miloc[:,\u001b[38;5;241m1\u001b[39m], [\u001b[38;5;241m0\u001b[39m, \u001b[38;5;241m.25\u001b[39m, \u001b[38;5;241m.5\u001b[39m, \u001b[38;5;241m.75\u001b[39m, \u001b[38;5;241m1\u001b[39m]),\n\u001b[0;32m     22\u001b[0m pd\u001b[38;5;241m.\u001b[39mqcut(iris_dataframe\u001b[38;5;241m.\u001b[39miloc[:,\u001b[38;5;241m2\u001b[39m], [\u001b[38;5;241m0\u001b[39m, \u001b[38;5;241m.25\u001b[39m, \u001b[38;5;241m.5\u001b[39m, \u001b[38;5;241m.75\u001b[39m, \u001b[38;5;241m1\u001b[39m]),\n\u001b[0;32m     23\u001b[0m pd\u001b[38;5;241m.\u001b[39mqcut(iris_dataframe\u001b[38;5;241m.\u001b[39miloc[:,\u001b[38;5;241m3\u001b[39m], [\u001b[38;5;241m0\u001b[39m, \u001b[38;5;241m.25\u001b[39m, \u001b[38;5;241m.5\u001b[39m, \u001b[38;5;241m.75\u001b[39m, \u001b[38;5;241m1\u001b[39m]),\n\u001b[0;32m     24\u001b[0m ], join\u001b[38;5;241m=\u001b[39m\u001b[38;5;124m'\u001b[39m\u001b[38;5;124mouter\u001b[39m\u001b[38;5;124m'\u001b[39m, axis \u001b[38;5;241m=\u001b[39m \u001b[38;5;241m1\u001b[39m)\n",
      "File \u001b[1;32m~\\anaconda3\\Lib\\site-packages\\pandas\\core\\frame.py:12191\u001b[0m, in \u001b[0;36mDataFrame.quantile\u001b[1;34m(self, q, axis, numeric_only, interpolation, method)\u001b[0m\n\u001b[0;32m  12187\u001b[0m     \u001b[38;5;28;01mraise\u001b[39;00m \u001b[38;5;167;01mValueError\u001b[39;00m(\n\u001b[0;32m  12188\u001b[0m         \u001b[38;5;124mf\u001b[39m\u001b[38;5;124m\"\u001b[39m\u001b[38;5;124mInvalid method: \u001b[39m\u001b[38;5;132;01m{\u001b[39;00mmethod\u001b[38;5;132;01m}\u001b[39;00m\u001b[38;5;124m. Method must be in \u001b[39m\u001b[38;5;132;01m{\u001b[39;00mvalid_method\u001b[38;5;132;01m}\u001b[39;00m\u001b[38;5;124m.\u001b[39m\u001b[38;5;124m\"\u001b[39m\n\u001b[0;32m  12189\u001b[0m     )\n\u001b[0;32m  12190\u001b[0m \u001b[38;5;28;01mif\u001b[39;00m method \u001b[38;5;241m==\u001b[39m \u001b[38;5;124m\"\u001b[39m\u001b[38;5;124msingle\u001b[39m\u001b[38;5;124m\"\u001b[39m:\n\u001b[1;32m> 12191\u001b[0m     res \u001b[38;5;241m=\u001b[39m data\u001b[38;5;241m.\u001b[39m_mgr\u001b[38;5;241m.\u001b[39mquantile(qs\u001b[38;5;241m=\u001b[39mq, interpolation\u001b[38;5;241m=\u001b[39minterpolation)\n\u001b[0;32m  12192\u001b[0m \u001b[38;5;28;01melif\u001b[39;00m method \u001b[38;5;241m==\u001b[39m \u001b[38;5;124m\"\u001b[39m\u001b[38;5;124mtable\u001b[39m\u001b[38;5;124m\"\u001b[39m:\n\u001b[0;32m  12193\u001b[0m     valid_interpolation \u001b[38;5;241m=\u001b[39m {\u001b[38;5;124m\"\u001b[39m\u001b[38;5;124mnearest\u001b[39m\u001b[38;5;124m\"\u001b[39m, \u001b[38;5;124m\"\u001b[39m\u001b[38;5;124mlower\u001b[39m\u001b[38;5;124m\"\u001b[39m, \u001b[38;5;124m\"\u001b[39m\u001b[38;5;124mhigher\u001b[39m\u001b[38;5;124m\"\u001b[39m}\n",
      "File \u001b[1;32m~\\anaconda3\\Lib\\site-packages\\pandas\\core\\internals\\managers.py:1549\u001b[0m, in \u001b[0;36mBlockManager.quantile\u001b[1;34m(self, qs, interpolation)\u001b[0m\n\u001b[0;32m   1545\u001b[0m new_axes \u001b[38;5;241m=\u001b[39m \u001b[38;5;28mlist\u001b[39m(\u001b[38;5;28mself\u001b[39m\u001b[38;5;241m.\u001b[39maxes)\n\u001b[0;32m   1546\u001b[0m new_axes[\u001b[38;5;241m1\u001b[39m] \u001b[38;5;241m=\u001b[39m Index(qs, dtype\u001b[38;5;241m=\u001b[39mnp\u001b[38;5;241m.\u001b[39mfloat64)\n\u001b[0;32m   1548\u001b[0m blocks \u001b[38;5;241m=\u001b[39m [\n\u001b[1;32m-> 1549\u001b[0m     blk\u001b[38;5;241m.\u001b[39mquantile(qs\u001b[38;5;241m=\u001b[39mqs, interpolation\u001b[38;5;241m=\u001b[39minterpolation) \u001b[38;5;28;01mfor\u001b[39;00m blk \u001b[38;5;129;01min\u001b[39;00m \u001b[38;5;28mself\u001b[39m\u001b[38;5;241m.\u001b[39mblocks\n\u001b[0;32m   1550\u001b[0m ]\n\u001b[0;32m   1552\u001b[0m \u001b[38;5;28;01mreturn\u001b[39;00m \u001b[38;5;28mtype\u001b[39m(\u001b[38;5;28mself\u001b[39m)(blocks, new_axes)\n",
      "File \u001b[1;32m~\\anaconda3\\Lib\\site-packages\\pandas\\core\\internals\\blocks.py:1891\u001b[0m, in \u001b[0;36mBlock.quantile\u001b[1;34m(self, qs, interpolation)\u001b[0m\n\u001b[0;32m   1888\u001b[0m \u001b[38;5;28;01massert\u001b[39;00m \u001b[38;5;28mself\u001b[39m\u001b[38;5;241m.\u001b[39mndim \u001b[38;5;241m==\u001b[39m \u001b[38;5;241m2\u001b[39m\n\u001b[0;32m   1889\u001b[0m \u001b[38;5;28;01massert\u001b[39;00m is_list_like(qs)  \u001b[38;5;66;03m# caller is responsible for this\u001b[39;00m\n\u001b[1;32m-> 1891\u001b[0m result \u001b[38;5;241m=\u001b[39m quantile_compat(\u001b[38;5;28mself\u001b[39m\u001b[38;5;241m.\u001b[39mvalues, np\u001b[38;5;241m.\u001b[39masarray(qs\u001b[38;5;241m.\u001b[39m_values), interpolation)\n\u001b[0;32m   1892\u001b[0m \u001b[38;5;66;03m# ensure_block_shape needed for cases where we start with EA and result\u001b[39;00m\n\u001b[0;32m   1893\u001b[0m \u001b[38;5;66;03m#  is ndarray, e.g. IntegerArray, SparseArray\u001b[39;00m\n\u001b[0;32m   1894\u001b[0m result \u001b[38;5;241m=\u001b[39m ensure_block_shape(result, ndim\u001b[38;5;241m=\u001b[39m\u001b[38;5;241m2\u001b[39m)\n",
      "File \u001b[1;32m~\\anaconda3\\Lib\\site-packages\\pandas\\core\\array_algos\\quantile.py:41\u001b[0m, in \u001b[0;36mquantile_compat\u001b[1;34m(values, qs, interpolation)\u001b[0m\n\u001b[0;32m     39\u001b[0m     \u001b[38;5;28;01mreturn\u001b[39;00m quantile_with_mask(values, mask, fill_value, qs, interpolation)\n\u001b[0;32m     40\u001b[0m \u001b[38;5;28;01melse\u001b[39;00m:\n\u001b[1;32m---> 41\u001b[0m     \u001b[38;5;28;01mreturn\u001b[39;00m values\u001b[38;5;241m.\u001b[39m_quantile(qs, interpolation)\n",
      "File \u001b[1;32m~\\anaconda3\\Lib\\site-packages\\pandas\\core\\arrays\\_mixins.py:519\u001b[0m, in \u001b[0;36mNDArrayBackedExtensionArray._quantile\u001b[1;34m(self, qs, interpolation)\u001b[0m\n\u001b[0;32m    515\u001b[0m fill_value \u001b[38;5;241m=\u001b[39m \u001b[38;5;28mself\u001b[39m\u001b[38;5;241m.\u001b[39m_internal_fill_value\n\u001b[0;32m    517\u001b[0m res_values \u001b[38;5;241m=\u001b[39m quantile_with_mask(arr, mask, fill_value, qs, interpolation)\n\u001b[1;32m--> 519\u001b[0m res_values \u001b[38;5;241m=\u001b[39m \u001b[38;5;28mself\u001b[39m\u001b[38;5;241m.\u001b[39m_cast_quantile_result(res_values)\n\u001b[0;32m    520\u001b[0m \u001b[38;5;28;01mreturn\u001b[39;00m \u001b[38;5;28mself\u001b[39m\u001b[38;5;241m.\u001b[39m_from_backing_data(res_values)\n",
      "File \u001b[1;32m~\\anaconda3\\Lib\\site-packages\\pandas\\core\\arrays\\categorical.py:2480\u001b[0m, in \u001b[0;36mCategorical._cast_quantile_result\u001b[1;34m(self, res_values)\u001b[0m\n\u001b[0;32m   2478\u001b[0m \u001b[38;5;28;01mdef\u001b[39;00m \u001b[38;5;21m_cast_quantile_result\u001b[39m(\u001b[38;5;28mself\u001b[39m, res_values: np\u001b[38;5;241m.\u001b[39mndarray) \u001b[38;5;241m-\u001b[39m\u001b[38;5;241m>\u001b[39m np\u001b[38;5;241m.\u001b[39mndarray:\n\u001b[0;32m   2479\u001b[0m     \u001b[38;5;66;03m# make sure we have correct itemsize for resulting codes\u001b[39;00m\n\u001b[1;32m-> 2480\u001b[0m     \u001b[38;5;28;01massert\u001b[39;00m res_values\u001b[38;5;241m.\u001b[39mdtype \u001b[38;5;241m==\u001b[39m \u001b[38;5;28mself\u001b[39m\u001b[38;5;241m.\u001b[39m_ndarray\u001b[38;5;241m.\u001b[39mdtype\n\u001b[0;32m   2481\u001b[0m     \u001b[38;5;28;01mreturn\u001b[39;00m res_values\n",
      "\u001b[1;31mAssertionError\u001b[0m: "
     ]
    }
   ],
   "source": [
    "from sklearn.datasets import load_iris\n",
    "iris = load_iris()\n",
    "import pandas as pd\n",
    "import numpy as np\n",
    "iris_nparray = iris.data\n",
    "iris_dataframe = pd.DataFrame(iris.data, columns=iris.feature_names)\n",
    "iris_dataframe['group'] = pd.Series([iris.target_names[k] for k in\n",
    "iris.target],\n",
    "dtype=\"category\")\n",
    "print(\"IRIS data values:\")\n",
    "print(iris_dataframe)\n",
    "print(\"Mean value :\")\n",
    "print (iris_dataframe.mean(numeric_only=True))\n",
    "print(\"Median value :\")\n",
    "print (iris_dataframe.median(numeric_only=True))\n",
    "print(\"Discrétisation basée sur des effectifs égaux (ou quantiles) :\")\n",
    "print(iris_dataframe.quantile(np.array([0,.25,.50,.75,1])))\n",
    "#Le binning transforme les variables numériques en variables catégoriques\n",
    "iris_binned = pd.concat([\n",
    "pd.qcut(iris_dataframe.iloc[:,0], [0, .25, .5, .75, 1]),\n",
    "pd.qcut(iris_dataframe.iloc[:,1], [0, .25, .5, .75, 1]),\n",
    "pd.qcut(iris_dataframe.iloc[:,2], [0, .25, .5, .75, 1]),\n",
    "pd.qcut(iris_dataframe.iloc[:,3], [0, .25, .5, .75, 1]),\n",
    "], join='outer', axis = 1)\n",
    "print(\"Bining IrisData\")\n",
    "print(iris_binned)\n",
    "#obtenir une fréquence pour chaque variable catégorique de l'ensemble de données\n",
    "print(\"Fréquence dans chanque catégorie\")\n",
    "print (iris_dataframe['group'].value_counts())\n",
    "print(\"Fréquence pour chaque marge de valeurs\")\n",
    "print (iris_binned['petal length (cm)'].value_counts())"
   ]
  },
  {
   "cell_type": "markdown",
   "id": "a5c3c19b-1c29-4fc6-96f2-206880dcee17",
   "metadata": {},
   "source": [
    "La méthode qcut() discrétise les données en fonction des quantiles, garantissant des groupes avec un nombre égal d'observations. Elle est idéale pour diviser les données en intervalles égaux en termes de fréquence. En revanche, cut() divise les données en intervalles de taille égale en termes de valeur, sans garantir un nombre égal d'observations dans chaque intervalle."
   ]
  },
  {
   "cell_type": "markdown",
   "id": "14476cd7-c036-4bbd-9586-f7e241131fa4",
   "metadata": {},
   "source": [
    "Question 8:"
   ]
  },
  {
   "cell_type": "code",
   "execution_count": 32,
   "id": "54de75c1-78ac-401b-a63b-84b44d07be98",
   "metadata": {},
   "outputs": [
    {
     "name": "stdout",
     "output_type": "stream",
     "text": [
      "Les scores de corrélation des features :\n",
      "chi2 score  [ 10.81782088   3.7107283  116.31261309  67.0483602 ]\n",
      "F - score score  [ 119.26450218   49.16004009 1180.16118225  960.0071468 ]\n",
      "mutual info  [0.49848267 0.23114139 0.99059987 0.98807254]\n"
     ]
    },
    {
     "data": {
      "image/png": "[encoded data removed]",
      "text/plain": [
       "<Figure size 640x480 with 2 Axes>"
      ]
     },
     "metadata": {},
     "output_type": "display_data"
    }
   ],
   "source": [
    "import pandas as pd\n",
    "import matplotlib.pyplot as plt\n",
    "import seaborn as sns\n",
    "from sklearn.feature_selection import f_classif, chi2, mutual_info_classif\n",
    "from sklearn.datasets import load_iris\n",
    "iris = load_iris()\n",
    "X,y = iris.data, iris.target\n",
    "chi2_score, chi_2_p_value = chi2(X,y)\n",
    "f_score, f_p_value = f_classif(X,y)\n",
    "mut_info_score = mutual_info_classif(X,y)\n",
    "print(\"Les scores de corrélation des features :\")\n",
    "print('chi2 score ', chi2_score)\n",
    "print('F - score score ', f_score)\n",
    "print('mutual info ', mut_info_score)\n",
    "dataframe = pd.DataFrame(iris.data, columns=iris.feature_names)\n",
    "corr = dataframe.corr()\n",
    "sns.heatmap(corr,\n",
    "xticklabels=corr.columns.values,\n",
    "yticklabels=corr.columns.values)\n",
    "plt.show()"
   ]
  },
  {
   "cell_type": "markdown",
   "id": "7447da3e",
   "metadata": {},
   "source": [
    "Cette heatmap montre les corrélations entre les caractéristiques de fleurs (longueur/largeur des sépales et pétales). Les couleurs claires indiquent une forte corrélation positive, comme entre la longueur et la largeur des pétales, tandis que les couleurs sombres montrent des corrélations négatives ou faibles, comme entre la largeur du sépale et la longueur du pétale."
   ]
  },
  {
   "cell_type": "code",
   "execution_count": 38,
   "id": "a22c5a15-752e-4f2e-9ac9-0a944c5d3d66",
   "metadata": {},
   "outputs": [
    {
     "name": "stdout",
     "output_type": "stream",
     "text": [
      "Variance expliquée par chaque composante : [0.72962445 0.22850762]\n",
      "   Composante 1  Composante 2  Classe\n",
      "0     -2.264703      0.480027       0\n",
      "1     -2.080961     -0.674134       0\n",
      "2     -2.364229     -0.341908       0\n",
      "3     -2.299384     -0.597395       0\n",
      "4     -2.389842      0.646835       0\n"
     ]
    },
    {
     "data": {
      "image/png": "[encoded data removed]",
      "text/plain": [
       "<Figure size 600x400 with 1 Axes>"
      ]
     },
     "metadata": {},
     "output_type": "display_data"
    },
    {
     "data": {
      "image/png": "[encoded data removed]",
      "text/plain": [
       "<Figure size 640x480 with 1 Axes>"
      ]
     },
     "metadata": {},
     "output_type": "display_data"
    }
   ],
   "source": [
    "import pandas as pd\n",
    "import matplotlib.pyplot as plt\n",
    "from sklearn.decomposition import PCA\n",
    "from sklearn.preprocessing import StandardScaler\n",
    "from sklearn.datasets import load_iris\n",
    "import seaborn as sns\n",
    "\n",
    "# Charger un jeu de données Iris\n",
    "data = load_iris()\n",
    "X = data.data  # Caractéristiques\n",
    "y = data.target  # Étiquettes\n",
    "\n",
    "# Étape 1 : Standardiser les données\n",
    "scaler = StandardScaler()\n",
    "X_scaled = scaler.fit_transform(X)\n",
    "\n",
    "# Étape 2 : Appliquer la PCA\n",
    "pca = PCA(n_components=2)  # Choisir le nombre de composantes principales\n",
    "X_pca = pca.fit_transform(X_scaled)\n",
    "\n",
    "# Étape 3 : Afficher la variance expliquée par chaque composante\n",
    "print(\"Variance expliquée par chaque composante :\", pca.explained_variance_ratio_)\n",
    "\n",
    "# Étape 4 : Convertir en DataFrame pour visualiser les nouvelles caractéristiques\n",
    "df_pca = pd.DataFrame(X_pca, columns=['Composante 1', 'Composante 2'])\n",
    "df_pca['Classe'] = y\n",
    "print(df_pca.head())\n",
    "\n",
    "# Plot graphique d’observation des données\n",
    "with plt.style.context('seaborn-v0_8-whitegrid'):\n",
    "    plt.figure(figsize=(6, 4))\n",
    "    for lab, col in zip((0, 1, 2), ('blue', 'red', 'green')):\n",
    "        plt.scatter(X_pca[y == lab, 0], X_pca[y == lab, 1], label=data.target_names[lab], c=col)\n",
    "    plt.xlabel('Principal Component 1')\n",
    "    plt.ylabel('Principal Component 2')\n",
    "    plt.legend(loc='lower center')\n",
    "    plt.tight_layout()\n",
    "    plt.show()\n",
    "\n",
    "# Graphique de la variance expliquée cumulée\n",
    "pca_full = PCA().fit(X_scaled)\n",
    "plt.plot(range(1, len(pca_full.explained_variance_ratio_) + 1),\n",
    "         pca_full.explained_variance_ratio_.cumsum(), marker='o')\n",
    "plt.xlabel('Nombre de Composantes')\n",
    "plt.ylabel('Variance expliquée cumulée')\n",
    "plt.title('Sélection du nombre de composantes')\n",
    "plt.show()\n"
   ]
  }
 ],
 "metadata": {
  "kernelspec": {
   "display_name": "Python 3 (ipykernel)",
   "language": "python",
   "name": "python3"
  },
  "language_info": {
   "codemirror_mode": {
    "name": "ipython",
    "version": 3
   },
   "file_extension": ".py",
   "mimetype": "text/x-python",
   "name": "python",
   "nbconvert_exporter": "python",
   "pygments_lexer": "ipython3",
   "version": "3.12.4"
  }
 },
 "nbformat": 4,
 "nbformat_minor": 5
}
