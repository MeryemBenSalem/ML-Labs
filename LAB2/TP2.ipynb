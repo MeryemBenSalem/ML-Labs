{
 "cells": [
  {
   "cell_type": "markdown",
   "id": "fea67572-000f-4b50-9754-dfa83d7b968a",
   "metadata": {},
   "source": [
    "# Atelier 2 : Manipulation des données avec DataFrame\n",
    "\n",
    "### Objectif:\n",
    "\n",
    "Introduire les techniques de base pour importer et accéder aux données sous différentes formes en utilisant la bibliothèque pandas."
   ]
  },
  {
   "cell_type": "markdown",
   "id": "b441684c-7eaf-4526-9fca-4d6a56e6dce9",
   "metadata": {},
   "source": [
    "1. Importer le jeu de données « prêts »"
   ]
  },
  {
   "cell_type": "code",
   "execution_count": 3,
   "id": "cc68348f-7f1d-40e7-8d20-0fc91e5c94d8",
   "metadata": {},
   "outputs": [
    {
     "data": {
      "text/html": [
       "<div>\n",
       "<style scoped>\n",
       "    .dataframe tbody tr th:only-of-type {\n",
       "        vertical-align: middle;\n",
       "    }\n",
       "\n",
       "    .dataframe tbody tr th {\n",
       "        vertical-align: top;\n",
       "    }\n",
       "\n",
       "    .dataframe thead th {\n",
       "        text-align: right;\n",
       "    }\n",
       "</style>\n",
       "<table border=\"1\" class=\"dataframe\">\n",
       "  <thead>\n",
       "    <tr style=\"text-align: right;\">\n",
       "      <th></th>\n",
       "      <th>identifiant</th>\n",
       "      <th>ville</th>\n",
       "      <th>CP</th>\n",
       "      <th>revenu</th>\n",
       "      <th>remboursement</th>\n",
       "      <th>duree</th>\n",
       "      <th>type</th>\n",
       "      <th>taux</th>\n",
       "    </tr>\n",
       "  </thead>\n",
       "  <tbody>\n",
       "    <tr>\n",
       "      <th>0</th>\n",
       "      <td>0</td>\n",
       "      <td>TOULOUSE</td>\n",
       "      <td>31100</td>\n",
       "      <td>3669.0</td>\n",
       "      <td>1130.05</td>\n",
       "      <td>240</td>\n",
       "      <td>immobilier</td>\n",
       "      <td>1.168</td>\n",
       "    </tr>\n",
       "    <tr>\n",
       "      <th>1</th>\n",
       "      <td>1</td>\n",
       "      <td>PARIS</td>\n",
       "      <td>75009</td>\n",
       "      <td>5310.0</td>\n",
       "      <td>240.00</td>\n",
       "      <td>64</td>\n",
       "      <td>automobile</td>\n",
       "      <td>3.701</td>\n",
       "    </tr>\n",
       "    <tr>\n",
       "      <th>2</th>\n",
       "      <td>1</td>\n",
       "      <td>PARIS</td>\n",
       "      <td>75009</td>\n",
       "      <td>5310.0</td>\n",
       "      <td>1247.85</td>\n",
       "      <td>300</td>\n",
       "      <td>immobilier</td>\n",
       "      <td>1.173</td>\n",
       "    </tr>\n",
       "    <tr>\n",
       "      <th>3</th>\n",
       "      <td>2</td>\n",
       "      <td>MARSEILLE</td>\n",
       "      <td>13010</td>\n",
       "      <td>1873.0</td>\n",
       "      <td>552.54</td>\n",
       "      <td>240</td>\n",
       "      <td>immobilier</td>\n",
       "      <td>0.972</td>\n",
       "    </tr>\n",
       "    <tr>\n",
       "      <th>4</th>\n",
       "      <td>3</td>\n",
       "      <td>MARSEILLE</td>\n",
       "      <td>13010</td>\n",
       "      <td>1684.0</td>\n",
       "      <td>586.03</td>\n",
       "      <td>180</td>\n",
       "      <td>immobilier</td>\n",
       "      <td>1.014</td>\n",
       "    </tr>\n",
       "  </tbody>\n",
       "</table>\n",
       "</div>"
      ],
      "text/plain": [
       "   identifiant      ville     CP  revenu  remboursement  duree        type  \\\n",
       "0            0   TOULOUSE  31100  3669.0        1130.05    240  immobilier   \n",
       "1            1      PARIS  75009  5310.0         240.00     64  automobile   \n",
       "2            1      PARIS  75009  5310.0        1247.85    300  immobilier   \n",
       "3            2  MARSEILLE  13010  1873.0         552.54    240  immobilier   \n",
       "4            3  MARSEILLE  13010  1684.0         586.03    180  immobilier   \n",
       "\n",
       "    taux  \n",
       "0  1.168  \n",
       "1  3.701  \n",
       "2  1.173  \n",
       "3  0.972  \n",
       "4  1.014  "
      ]
     },
     "execution_count": 3,
     "metadata": {},
     "output_type": "execute_result"
    }
   ],
   "source": [
    "import pandas as pd\n",
    "\n",
    "# Importer le jeu de données « prêts »\n",
    "df = pd.read_csv('prets.csv') \n",
    "df.head(5)"
   ]
  },
  {
   "cell_type": "markdown",
   "id": "5c6ec79a-921f-43d0-9e68-a020bbc3850c",
   "metadata": {},
   "source": [
    "2. Explorer la structure du DataFrame"
   ]
  },
  {
   "cell_type": "code",
   "execution_count": 5,
   "id": "87194d9f-886c-4edf-b926-74e056ec3685",
   "metadata": {},
   "outputs": [
    {
     "name": "stdout",
     "output_type": "stream",
     "text": [
      "Colonnes: Index(['identifiant', 'ville', 'CP', 'revenu', 'remboursement', 'duree',\n",
      "       'type', 'taux'],\n",
      "      dtype='object')\n",
      "Dimensions: (244, 8)\n",
      "Nombre de villes uniques: 6\n"
     ]
    }
   ],
   "source": [
    "print(\"Colonnes:\", df.columns)\n",
    "print(\"Dimensions:\", df.shape)\n",
    "nb_villes_uniques = df['ville'].nunique()\n",
    "print(\"Nombre de villes uniques:\", nb_villes_uniques)\n"
   ]
  },
  {
   "cell_type": "markdown",
   "id": "94084332-7661-423b-bbde-ebe1c5ffdaa9",
   "metadata": {},
   "source": [
    "3. Créer un nouvel attribut « taux_endettement »\n",
    "Formule : taux_endettement = remboursement * 100 / revenu"
   ]
  },
  {
   "cell_type": "code",
   "execution_count": 7,
   "id": "d110eb58-c29c-43e3-bb74-ba00fcbb3434",
   "metadata": {},
   "outputs": [],
   "source": [
    "df['taux_endettement'] = (df['remboursement'] * 100 / df['revenu']).round(2)\n"
   ]
  },
  {
   "cell_type": "markdown",
   "id": "bd00e19c-8086-4644-bca4-253177f1f876",
   "metadata": {},
   "source": [
    "4. Renommer la variable « taux » en « taux_interet »"
   ]
  },
  {
   "cell_type": "code",
   "execution_count": 9,
   "id": "61656bf4-58b0-4628-9f57-2a7966726005",
   "metadata": {},
   "outputs": [],
   "source": [
    "df=df.rename({'taux': 'taux_interet'}, axis=1)\n"
   ]
  },
  {
   "cell_type": "markdown",
   "id": "6ccef542-4ccd-447b-8779-89bd3d6b6b09",
   "metadata": {},
   "source": [
    "5. Créer les variables « cout_total » et « benefices »"
   ]
  },
  {
   "cell_type": "code",
   "execution_count": 11,
   "id": "ae93a995-9b44-4528-983b-2d914fdf5736",
   "metadata": {},
   "outputs": [],
   "source": [
    "df['cout_total'] = df['remboursement'] * df['duree']\n",
    "\n"
   ]
  },
  {
   "cell_type": "code",
   "execution_count": 12,
   "id": "ff022a80-3855-44c6-a2d6-bab9db5b1ec8",
   "metadata": {},
   "outputs": [
    {
     "data": {
      "text/html": [
       "<div>\n",
       "<style scoped>\n",
       "    .dataframe tbody tr th:only-of-type {\n",
       "        vertical-align: middle;\n",
       "    }\n",
       "\n",
       "    .dataframe tbody tr th {\n",
       "        vertical-align: top;\n",
       "    }\n",
       "\n",
       "    .dataframe thead th {\n",
       "        text-align: right;\n",
       "    }\n",
       "</style>\n",
       "<table border=\"1\" class=\"dataframe\">\n",
       "  <thead>\n",
       "    <tr style=\"text-align: right;\">\n",
       "      <th></th>\n",
       "      <th>identifiant</th>\n",
       "      <th>ville</th>\n",
       "      <th>CP</th>\n",
       "      <th>revenu</th>\n",
       "      <th>remboursement</th>\n",
       "      <th>duree</th>\n",
       "      <th>type</th>\n",
       "      <th>taux_interet</th>\n",
       "      <th>taux_endettement</th>\n",
       "      <th>cout_total</th>\n",
       "    </tr>\n",
       "  </thead>\n",
       "  <tbody>\n",
       "    <tr>\n",
       "      <th>0</th>\n",
       "      <td>0</td>\n",
       "      <td>TOULOUSE</td>\n",
       "      <td>31100</td>\n",
       "      <td>3669.0</td>\n",
       "      <td>1130.05</td>\n",
       "      <td>240</td>\n",
       "      <td>immobilier</td>\n",
       "      <td>1.168</td>\n",
       "      <td>30.80</td>\n",
       "      <td>271212.0</td>\n",
       "    </tr>\n",
       "    <tr>\n",
       "      <th>1</th>\n",
       "      <td>1</td>\n",
       "      <td>PARIS</td>\n",
       "      <td>75009</td>\n",
       "      <td>5310.0</td>\n",
       "      <td>240.00</td>\n",
       "      <td>64</td>\n",
       "      <td>automobile</td>\n",
       "      <td>3.701</td>\n",
       "      <td>4.52</td>\n",
       "      <td>15360.0</td>\n",
       "    </tr>\n",
       "    <tr>\n",
       "      <th>2</th>\n",
       "      <td>1</td>\n",
       "      <td>PARIS</td>\n",
       "      <td>75009</td>\n",
       "      <td>5310.0</td>\n",
       "      <td>1247.85</td>\n",
       "      <td>300</td>\n",
       "      <td>immobilier</td>\n",
       "      <td>1.173</td>\n",
       "      <td>23.50</td>\n",
       "      <td>374355.0</td>\n",
       "    </tr>\n",
       "    <tr>\n",
       "      <th>3</th>\n",
       "      <td>2</td>\n",
       "      <td>MARSEILLE</td>\n",
       "      <td>13010</td>\n",
       "      <td>1873.0</td>\n",
       "      <td>552.54</td>\n",
       "      <td>240</td>\n",
       "      <td>immobilier</td>\n",
       "      <td>0.972</td>\n",
       "      <td>29.50</td>\n",
       "      <td>132609.6</td>\n",
       "    </tr>\n",
       "    <tr>\n",
       "      <th>4</th>\n",
       "      <td>3</td>\n",
       "      <td>MARSEILLE</td>\n",
       "      <td>13010</td>\n",
       "      <td>1684.0</td>\n",
       "      <td>586.03</td>\n",
       "      <td>180</td>\n",
       "      <td>immobilier</td>\n",
       "      <td>1.014</td>\n",
       "      <td>34.80</td>\n",
       "      <td>105485.4</td>\n",
       "    </tr>\n",
       "  </tbody>\n",
       "</table>\n",
       "</div>"
      ],
      "text/plain": [
       "   identifiant      ville     CP  revenu  remboursement  duree        type  \\\n",
       "0            0   TOULOUSE  31100  3669.0        1130.05    240  immobilier   \n",
       "1            1      PARIS  75009  5310.0         240.00     64  automobile   \n",
       "2            1      PARIS  75009  5310.0        1247.85    300  immobilier   \n",
       "3            2  MARSEILLE  13010  1873.0         552.54    240  immobilier   \n",
       "4            3  MARSEILLE  13010  1684.0         586.03    180  immobilier   \n",
       "\n",
       "   taux_interet  taux_endettement  cout_total  \n",
       "0         1.168             30.80    271212.0  \n",
       "1         3.701              4.52     15360.0  \n",
       "2         1.173             23.50    374355.0  \n",
       "3         0.972             29.50    132609.6  \n",
       "4         1.014             34.80    105485.4  "
      ]
     },
     "execution_count": 12,
     "metadata": {},
     "output_type": "execute_result"
    }
   ],
   "source": [
    "\n",
    "df.head()"
   ]
  },
  {
   "cell_type": "code",
   "execution_count": 13,
   "id": "c3bb94e9-48be-4030-b32c-79be6e16d96c",
   "metadata": {},
   "outputs": [],
   "source": [
    "df['benefices'] = (df['cout_total'] * df['taux_interet']) / 24"
   ]
  },
  {
   "cell_type": "code",
   "execution_count": 14,
   "id": "49d02d68-a48e-487c-9044-6d89b55b052d",
   "metadata": {},
   "outputs": [
    {
     "data": {
      "text/html": [
       "<div>\n",
       "<style scoped>\n",
       "    .dataframe tbody tr th:only-of-type {\n",
       "        vertical-align: middle;\n",
       "    }\n",
       "\n",
       "    .dataframe tbody tr th {\n",
       "        vertical-align: top;\n",
       "    }\n",
       "\n",
       "    .dataframe thead th {\n",
       "        text-align: right;\n",
       "    }\n",
       "</style>\n",
       "<table border=\"1\" class=\"dataframe\">\n",
       "  <thead>\n",
       "    <tr style=\"text-align: right;\">\n",
       "      <th></th>\n",
       "      <th>identifiant</th>\n",
       "      <th>ville</th>\n",
       "      <th>CP</th>\n",
       "      <th>revenu</th>\n",
       "      <th>remboursement</th>\n",
       "      <th>duree</th>\n",
       "      <th>type</th>\n",
       "      <th>taux_interet</th>\n",
       "      <th>taux_endettement</th>\n",
       "      <th>cout_total</th>\n",
       "      <th>benefices</th>\n",
       "    </tr>\n",
       "  </thead>\n",
       "  <tbody>\n",
       "    <tr>\n",
       "      <th>0</th>\n",
       "      <td>0</td>\n",
       "      <td>TOULOUSE</td>\n",
       "      <td>31100</td>\n",
       "      <td>3669.0</td>\n",
       "      <td>1130.05</td>\n",
       "      <td>240</td>\n",
       "      <td>immobilier</td>\n",
       "      <td>1.168</td>\n",
       "      <td>30.80</td>\n",
       "      <td>271212.0</td>\n",
       "      <td>13198.984000</td>\n",
       "    </tr>\n",
       "    <tr>\n",
       "      <th>1</th>\n",
       "      <td>1</td>\n",
       "      <td>PARIS</td>\n",
       "      <td>75009</td>\n",
       "      <td>5310.0</td>\n",
       "      <td>240.00</td>\n",
       "      <td>64</td>\n",
       "      <td>automobile</td>\n",
       "      <td>3.701</td>\n",
       "      <td>4.52</td>\n",
       "      <td>15360.0</td>\n",
       "      <td>2368.640000</td>\n",
       "    </tr>\n",
       "    <tr>\n",
       "      <th>2</th>\n",
       "      <td>1</td>\n",
       "      <td>PARIS</td>\n",
       "      <td>75009</td>\n",
       "      <td>5310.0</td>\n",
       "      <td>1247.85</td>\n",
       "      <td>300</td>\n",
       "      <td>immobilier</td>\n",
       "      <td>1.173</td>\n",
       "      <td>23.50</td>\n",
       "      <td>374355.0</td>\n",
       "      <td>18296.600625</td>\n",
       "    </tr>\n",
       "    <tr>\n",
       "      <th>3</th>\n",
       "      <td>2</td>\n",
       "      <td>MARSEILLE</td>\n",
       "      <td>13010</td>\n",
       "      <td>1873.0</td>\n",
       "      <td>552.54</td>\n",
       "      <td>240</td>\n",
       "      <td>immobilier</td>\n",
       "      <td>0.972</td>\n",
       "      <td>29.50</td>\n",
       "      <td>132609.6</td>\n",
       "      <td>5370.688800</td>\n",
       "    </tr>\n",
       "    <tr>\n",
       "      <th>4</th>\n",
       "      <td>3</td>\n",
       "      <td>MARSEILLE</td>\n",
       "      <td>13010</td>\n",
       "      <td>1684.0</td>\n",
       "      <td>586.03</td>\n",
       "      <td>180</td>\n",
       "      <td>immobilier</td>\n",
       "      <td>1.014</td>\n",
       "      <td>34.80</td>\n",
       "      <td>105485.4</td>\n",
       "      <td>4456.758150</td>\n",
       "    </tr>\n",
       "  </tbody>\n",
       "</table>\n",
       "</div>"
      ],
      "text/plain": [
       "   identifiant      ville     CP  revenu  remboursement  duree        type  \\\n",
       "0            0   TOULOUSE  31100  3669.0        1130.05    240  immobilier   \n",
       "1            1      PARIS  75009  5310.0         240.00     64  automobile   \n",
       "2            1      PARIS  75009  5310.0        1247.85    300  immobilier   \n",
       "3            2  MARSEILLE  13010  1873.0         552.54    240  immobilier   \n",
       "4            3  MARSEILLE  13010  1684.0         586.03    180  immobilier   \n",
       "\n",
       "   taux_interet  taux_endettement  cout_total     benefices  \n",
       "0         1.168             30.80    271212.0  13198.984000  \n",
       "1         3.701              4.52     15360.0   2368.640000  \n",
       "2         1.173             23.50    374355.0  18296.600625  \n",
       "3         0.972             29.50    132609.6   5370.688800  \n",
       "4         1.014             34.80    105485.4   4456.758150  "
      ]
     },
     "execution_count": 14,
     "metadata": {},
     "output_type": "execute_result"
    }
   ],
   "source": [
    "df.head()"
   ]
  },
  {
   "cell_type": "markdown",
   "id": "036729e6-bd34-48b0-ad61-38de34a4d425",
   "metadata": {},
   "source": [
    "6. Afficher les 5 prêts ayant le plus de bénéfices"
   ]
  },
  {
   "cell_type": "code",
   "execution_count": 16,
   "id": "73fe5c33-23e3-4003-99d2-b7e3a487af6c",
   "metadata": {},
   "outputs": [
    {
     "name": "stdout",
     "output_type": "stream",
     "text": [
      "     identifiant   benefices\n",
      "8              7  43762.8600\n",
      "23            22  37094.2925\n",
      "186          173  35051.0472\n",
      "242          226  33184.9440\n",
      "181          168  33015.1416\n"
     ]
    }
   ],
   "source": [
    "top_5_benefices = df.nlargest(5, 'benefices')\n",
    "print(top_5_benefices[['identifiant', 'benefices']])\n"
   ]
  },
  {
   "cell_type": "markdown",
   "id": "fa0576f1-ede6-4ce4-a41f-4c835b7a429e",
   "metadata": {},
   "source": [
    "7. Nombre de personnes ayant dépassé 40% du taux d’endettement"
   ]
  },
  {
   "cell_type": "code",
   "execution_count": 18,
   "id": "76733e0e-b850-46dd-b0e0-2730a4ca78bd",
   "metadata": {},
   "outputs": [
    {
     "name": "stdout",
     "output_type": "stream",
     "text": [
      "Nombre de clients à risque: 26\n"
     ]
    }
   ],
   "source": [
    "clients_risque = df[df['taux_endettement'] > 40]\n",
    "print(\"Nombre de clients à risque:\", len(clients_risque))\n"
   ]
  },
  {
   "cell_type": "markdown",
   "id": "1b9449a1-6353-483b-b7a5-52bed8b75c31",
   "metadata": {},
   "source": [
    "8. Ajouter une variable « risque »"
   ]
  },
  {
   "cell_type": "code",
   "execution_count": 20,
   "id": "c1d2b57f-caa5-4b04-975e-9517f5cd9a4e",
   "metadata": {},
   "outputs": [],
   "source": [
    "df['risque'] = df['taux_endettement'].apply(lambda x: 'Oui' if x > 40 else 'Non')\n"
   ]
  },
  {
   "cell_type": "code",
   "execution_count": 21,
   "id": "757f1412-1468-454f-8ac3-2b4e0aef0890",
   "metadata": {},
   "outputs": [
    {
     "data": {
      "text/html": [
       "<div>\n",
       "<style scoped>\n",
       "    .dataframe tbody tr th:only-of-type {\n",
       "        vertical-align: middle;\n",
       "    }\n",
       "\n",
       "    .dataframe tbody tr th {\n",
       "        vertical-align: top;\n",
       "    }\n",
       "\n",
       "    .dataframe thead th {\n",
       "        text-align: right;\n",
       "    }\n",
       "</style>\n",
       "<table border=\"1\" class=\"dataframe\">\n",
       "  <thead>\n",
       "    <tr style=\"text-align: right;\">\n",
       "      <th></th>\n",
       "      <th>identifiant</th>\n",
       "      <th>ville</th>\n",
       "      <th>CP</th>\n",
       "      <th>revenu</th>\n",
       "      <th>remboursement</th>\n",
       "      <th>duree</th>\n",
       "      <th>type</th>\n",
       "      <th>taux_interet</th>\n",
       "      <th>taux_endettement</th>\n",
       "      <th>cout_total</th>\n",
       "      <th>benefices</th>\n",
       "      <th>risque</th>\n",
       "    </tr>\n",
       "  </thead>\n",
       "  <tbody>\n",
       "    <tr>\n",
       "      <th>0</th>\n",
       "      <td>0</td>\n",
       "      <td>TOULOUSE</td>\n",
       "      <td>31100</td>\n",
       "      <td>3669.0</td>\n",
       "      <td>1130.05</td>\n",
       "      <td>240</td>\n",
       "      <td>immobilier</td>\n",
       "      <td>1.168</td>\n",
       "      <td>30.80</td>\n",
       "      <td>271212.0</td>\n",
       "      <td>13198.984000</td>\n",
       "      <td>Non</td>\n",
       "    </tr>\n",
       "    <tr>\n",
       "      <th>1</th>\n",
       "      <td>1</td>\n",
       "      <td>PARIS</td>\n",
       "      <td>75009</td>\n",
       "      <td>5310.0</td>\n",
       "      <td>240.00</td>\n",
       "      <td>64</td>\n",
       "      <td>automobile</td>\n",
       "      <td>3.701</td>\n",
       "      <td>4.52</td>\n",
       "      <td>15360.0</td>\n",
       "      <td>2368.640000</td>\n",
       "      <td>Non</td>\n",
       "    </tr>\n",
       "    <tr>\n",
       "      <th>2</th>\n",
       "      <td>1</td>\n",
       "      <td>PARIS</td>\n",
       "      <td>75009</td>\n",
       "      <td>5310.0</td>\n",
       "      <td>1247.85</td>\n",
       "      <td>300</td>\n",
       "      <td>immobilier</td>\n",
       "      <td>1.173</td>\n",
       "      <td>23.50</td>\n",
       "      <td>374355.0</td>\n",
       "      <td>18296.600625</td>\n",
       "      <td>Non</td>\n",
       "    </tr>\n",
       "    <tr>\n",
       "      <th>3</th>\n",
       "      <td>2</td>\n",
       "      <td>MARSEILLE</td>\n",
       "      <td>13010</td>\n",
       "      <td>1873.0</td>\n",
       "      <td>552.54</td>\n",
       "      <td>240</td>\n",
       "      <td>immobilier</td>\n",
       "      <td>0.972</td>\n",
       "      <td>29.50</td>\n",
       "      <td>132609.6</td>\n",
       "      <td>5370.688800</td>\n",
       "      <td>Non</td>\n",
       "    </tr>\n",
       "    <tr>\n",
       "      <th>4</th>\n",
       "      <td>3</td>\n",
       "      <td>MARSEILLE</td>\n",
       "      <td>13010</td>\n",
       "      <td>1684.0</td>\n",
       "      <td>586.03</td>\n",
       "      <td>180</td>\n",
       "      <td>immobilier</td>\n",
       "      <td>1.014</td>\n",
       "      <td>34.80</td>\n",
       "      <td>105485.4</td>\n",
       "      <td>4456.758150</td>\n",
       "      <td>Non</td>\n",
       "    </tr>\n",
       "  </tbody>\n",
       "</table>\n",
       "</div>"
      ],
      "text/plain": [
       "   identifiant      ville     CP  revenu  remboursement  duree        type  \\\n",
       "0            0   TOULOUSE  31100  3669.0        1130.05    240  immobilier   \n",
       "1            1      PARIS  75009  5310.0         240.00     64  automobile   \n",
       "2            1      PARIS  75009  5310.0        1247.85    300  immobilier   \n",
       "3            2  MARSEILLE  13010  1873.0         552.54    240  immobilier   \n",
       "4            3  MARSEILLE  13010  1684.0         586.03    180  immobilier   \n",
       "\n",
       "   taux_interet  taux_endettement  cout_total     benefices risque  \n",
       "0         1.168             30.80    271212.0  13198.984000    Non  \n",
       "1         3.701              4.52     15360.0   2368.640000    Non  \n",
       "2         1.173             23.50    374355.0  18296.600625    Non  \n",
       "3         0.972             29.50    132609.6   5370.688800    Non  \n",
       "4         1.014             34.80    105485.4   4456.758150    Non  "
      ]
     },
     "execution_count": 21,
     "metadata": {},
     "output_type": "execute_result"
    }
   ],
   "source": [
    "df.head()"
   ]
  },
  {
   "cell_type": "markdown",
   "id": "28f77d9e-205e-42e3-a6b1-a0f2c1d8c3d3",
   "metadata": {},
   "source": [
    "9. Récupérer le nombre de prêts automobiles et le coût total moyen"
   ]
  },
  {
   "cell_type": "code",
   "execution_count": 23,
   "id": "d6b4d49e-1ddf-4a2d-85b1-763cd01af78c",
   "metadata": {},
   "outputs": [
    {
     "name": "stdout",
     "output_type": "stream",
     "text": [
      "Nombre de prêts automobiles: 16\n",
      "Coût total moyen des prêts automobiles: 13665.0\n"
     ]
    }
   ],
   "source": [
    "prets_automobiles = df[df['type'] == 'automobile']\n",
    "nb_prets_auto = len(prets_automobiles)\n",
    "cout_moyen_pret_auto = prets_automobiles['cout_total'].mean()\n",
    "\n",
    "print(\"Nombre de prêts automobiles:\", nb_prets_auto)\n",
    "print(\"Coût total moyen des prêts automobiles:\", cout_moyen_pret_auto)\n"
   ]
  },
  {
   "cell_type": "markdown",
   "id": "01f8d6a7-b6b0-4cf7-ab20-aa6a4a47130f",
   "metadata": {},
   "source": [
    "10. Afficher le bénéfice mensuel total réalisé par l’agence parisienne"
   ]
  },
  {
   "cell_type": "code",
   "execution_count": 25,
   "id": "1ecaf112-dacc-48a9-a701-002100dc5583",
   "metadata": {},
   "outputs": [
    {
     "name": "stdout",
     "output_type": "stream",
     "text": [
      "Bénéfice mensuel total de l'agence parisienne: 1001633.0605333335\n"
     ]
    }
   ],
   "source": [
    "benefice_paris = df[df['ville'] == 'PARIS']['benefices'].sum()\n",
    "print(\"Bénéfice mensuel total de l'agence parisienne:\", benefice_paris)\n"
   ]
  }
 ],
 "metadata": {
  "kernelspec": {
   "display_name": "Python 3 (ipykernel)",
   "language": "python",
   "name": "python3"
  },
  "language_info": {
   "codemirror_mode": {
    "name": "ipython",
    "version": 3
   },
   "file_extension": ".py",
   "mimetype": "text/x-python",
   "name": "python",
   "nbconvert_exporter": "python",
   "pygments_lexer": "ipython3",
   "version": "3.12.4"
  }
 },
 "nbformat": 4,
 "nbformat_minor": 5
}
